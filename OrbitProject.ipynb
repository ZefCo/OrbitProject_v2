{
 "cells": [
  {
   "cell_type": "code",
   "execution_count": 1,
   "metadata": {},
   "outputs": [],
   "source": [
    "from typing import Tuple\n",
    "from typing import List\n",
    "import numpy as np\n",
    "import pathlib\n",
    "import json"
   ]
  },
  {
   "cell_type": "code",
   "execution_count": 2,
   "metadata": {},
   "outputs": [],
   "source": [
    "class Wanderer:\n",
    "    '''\n",
    "    '''\n",
    "    def __init__(self, name: str, m: float, x0: float, y0: float, vx0: float, vy0: float) -> None:\n",
    "        self.xn, self.yn, self.vxn, self.vyn = list(), list(), list(), list()\n",
    "        self.m: float = m\n",
    "        self.name: str = name\n",
    "\n",
    "        self.xn.append(x0)\n",
    "        self.yn.append(y0)\n",
    "        self.vxn.append(vx0)\n",
    "        self.vyn.append(vy0)\n",
    "\n",
    "        self.jbodies = list()\n",
    "\n"
   ]
  },
  {
   "cell_type": "code",
   "execution_count": 3,
   "metadata": {},
   "outputs": [],
   "source": [
    "class NBodies:\n",
    "    '''\n",
    "    '''\n",
    "    def __init__(self, wanderers: Tuple[Wanderer], t: int, h: float) -> None:\n",
    "        self.aobjects = dict()\n",
    "\n",
    "        self.G = G = 880 * 10**-12\n",
    "        self.t = t\n",
    "        self.h = h\n",
    "        for aobject in wanderers:\n",
    "            aobject.m = aobject.m * self.G  # modifying mass to include gravity\n",
    "\n",
    "            self.aobjects[aobject.name] = aobject\n",
    "\n",
    "        for aobject in wanderers:\n",
    "            for jobject in wanderers:\n",
    "                if jobject.name not in aobject.name:\n",
    "                    aobject.jbodies.append(jobject)\n",
    "\n",
    "\n",
    "    def rk4_f(self, r, k1, k2, k3, k4) -> float:\n",
    "        '''\n",
    "        Probably could be a lambda function, but there is something nice about seeing this explicetly written out.\n",
    "        '''\n",
    "\n",
    "        return r + (self.h / 6) * (k1 + (2*k2) + (2*k3) + k4)\n",
    "\n",
    "\n",
    "    def acc(self, xy: tuple, Janders: list, step) -> Tuple[float, float]:\n",
    "        '''\n",
    "        '''\n",
    "        ai = [0, 0]\n",
    "\n",
    "        for J in Janders:\n",
    "            r = (xy[0] - J.xn[step])**2 + (xy[1] - J.yn[step])**2\n",
    "\n",
    "            a = J.m / r\n",
    "\n",
    "            ai[0] += a * (xy[0] - J.xn[step]) / np.sqrt(r)\n",
    "            ai[1] += a * (xy[1] - J.yn[step]) / np.sqrt(r)\n",
    "\n",
    "        return ai\n",
    "\n",
    "\n",
    "\n",
    "    def vel(self, vxy: np.array, eta_xy: np.array):\n",
    "        '''\n",
    "        '''\n",
    "\n",
    "        return vxy[0] + (eta_xy[0]*self.h), vxy[1] + (eta_xy[1]*self.h)\n",
    "    \n",
    "\n",
    "\n",
    "    def rk4_step(self, step, *args, **kwargs) -> Tuple[float, float]:\n",
    "        '''\n",
    "        '''\n",
    "        for body in self.aobjects.values():\n",
    "            xy = (body.xn[step], body.yn[step])\n",
    "            vxy = (body.vxn[step], body.vyn[step])\n",
    "\n",
    "            m1 = self.vel(vxy, (0, 0))\n",
    "            n1 = self.acc(xy, body.jbodies, step)\n",
    "\n",
    "            m2 = self.vel(vxy, n1)\n",
    "            n2 = self.acc((xy[0] + (m1[0] * self.h / 2), xy[1] + (m1[1] * self.h / 2)), body.jbodies, step)\n",
    "\n",
    "            m3 = self.vel(vxy, n2)\n",
    "            n3 = self.acc((xy[0] + (m2[0] * self.h / 2), xy[1] + (m2[1] * self.h / 2)), body.jbodies, step)\n",
    "\n",
    "            m4 = self.vel(vxy, n3)\n",
    "            n4 = self.acc((xy[0] + (m3[0] * self.h / 2), xy[1] + (m3[1] * self.h / 2)), body.jbodies, step)\n",
    "\n",
    "            body.xn.append(self.rk4_f(xy[0], m1[0], m2[0], m3[0], m4[0]))\n",
    "            body.yn.append(self.rk4_f(xy[1], m1[1], m2[1], m3[1], m4[1]))\n",
    "            body.vxn.append(self.rk4_f(vxy[0], n1[0], n2[0], n3[0], n4[0]))\n",
    "            body.vyn.append(self.rk4_f(vxy[1], n1[1], n2[1], n3[1], n4[1]))\n",
    "\n",
    "\n",
    "    \n",
    "    def oribts(self):\n",
    "        '''\n",
    "        '''\n",
    "\n",
    "        for step in range(self.t):\n",
    "            self.rk4_step(step)\n"
   ]
  },
  {
   "cell_type": "code",
   "execution_count": 4,
   "metadata": {},
   "outputs": [
    {
     "name": "stdout",
     "output_type": "stream",
     "text": [
      "30000.0\n",
      "1.0\n"
     ]
    }
   ],
   "source": [
    "cwd = pathlib.Path.cwd()\n",
    "ao_json_path = cwd / \"AstronomicalObjects.json\"\n",
    "\n",
    "with open(ao_json_path, 'r') as ao_file:\n",
    "    ao_file = ao_file.read()\n",
    "ao_json = json.loads(ao_file)['System']\n",
    "\n",
    "system = list()\n",
    "for body in ao_json.values():\n",
    "    w = Wanderer(body[\"name\"], \n",
    "        float(body[\"m\"]), \n",
    "        float(body[\"x0\"]), \n",
    "        float(body[\"y0\"]), \n",
    "        float(body[\"vx0\"]), \n",
    "        float(body[\"vy0\"]))\n",
    "    \n",
    "    system.append(w)\n",
    "    \n",
    "system = tuple(system)\n",
    "# print(system[0].m)\n",
    "for o in system:\n",
    "    print(o.m)\n",
    "    "
   ]
  },
  {
   "cell_type": "code",
   "execution_count": 5,
   "metadata": {},
   "outputs": [
    {
     "name": "stdout",
     "output_type": "stream",
     "text": [
      "1\n"
     ]
    }
   ],
   "source": [
    "# print(len(system[0].xn))\n",
    "nbodies = NBodies(system, t = 1825, h = 1)\n",
    "nbodies.oribts()"
   ]
  },
  {
   "cell_type": "code",
   "execution_count": 6,
   "metadata": {},
   "outputs": [
    {
     "name": "stdout",
     "output_type": "stream",
     "text": [
      "1826\n"
     ]
    }
   ],
   "source": [
    "# print(len(system[0].xn))\n",
    "# have this output to a csv file or to plotly"
   ]
  }
 ],
 "metadata": {
  "kernelspec": {
   "display_name": "thesis",
   "language": "python",
   "name": "python3"
  },
  "language_info": {
   "codemirror_mode": {
    "name": "ipython",
    "version": 3
   },
   "file_extension": ".py",
   "mimetype": "text/x-python",
   "name": "python",
   "nbconvert_exporter": "python",
   "pygments_lexer": "ipython3",
   "version": "3.10.4"
  },
  "orig_nbformat": 4
 },
 "nbformat": 4,
 "nbformat_minor": 2
}
